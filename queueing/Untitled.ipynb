{
 "cells": [
  {
   "cell_type": "code",
   "execution_count": 3,
   "id": "159524c7",
   "metadata": {},
   "outputs": [],
   "source": [
    "import spotipy"
   ]
  },
  {
   "cell_type": "code",
   "execution_count": 17,
   "id": "9b846f00",
   "metadata": {},
   "outputs": [],
   "source": [
    "# cache = spotipy.cache_handler.DjangoSessionCacheHandler(request)"
   ]
  },
  {
   "cell_type": "code",
   "execution_count": 18,
   "id": "fccf5ade",
   "metadata": {},
   "outputs": [],
   "source": [
    "SPOTIPY_CLIENT_SECRET='8249ac0021eb440d858d1dbc6717a811'\n",
    "SPOTIPY_CLIENT_ID='81a9b3f937fc4430a1cf42210e2439bb'\n",
    "SPOTIPY_REDIRECT_URI='https://spotif-l-y.herokuapp.com/redirect'"
   ]
  },
  {
   "cell_type": "code",
   "execution_count": 19,
   "id": "89d8213b",
   "metadata": {},
   "outputs": [],
   "source": [
    "sp_oauth = spotipy.oauth2.SpotifyOAuth(\n",
    "        SPOTIPY_CLIENT_ID,\n",
    "        SPOTIPY_CLIENT_SECRET,\n",
    "        SPOTIPY_REDIRECT_URI,\n",
    "        scope=['user-library-read', 'user-read-playback-state', 'user-modify-playback-state', 'user-read-currently-playing', 'user-read-recently-played'],\n",
    "#         cache_handler=cache\n",
    "    )"
   ]
  },
  {
   "cell_type": "code",
   "execution_count": 20,
   "id": "4025ba8a",
   "metadata": {},
   "outputs": [
    {
     "data": {
      "text/plain": [
       "'https://accounts.spotify.com/authorize?client_id=81a9b3f937fc4430a1cf42210e2439bb&response_type=code&redirect_uri=https%3A%2F%2Fspotif-l-y.herokuapp.com%2Fredirect&scope=user-library-read+user-modify-playback-state+user-read-currently-playing+user-read-playback-state+user-read-recently-played'"
      ]
     },
     "execution_count": 20,
     "metadata": {},
     "output_type": "execute_result"
    }
   ],
   "source": [
    "sp_oauth.get_authorize_url()"
   ]
  },
  {
   "cell_type": "code",
   "execution_count": null,
   "id": "0b232f0f",
   "metadata": {},
   "outputs": [],
   "source": []
  }
 ],
 "metadata": {
  "kernelspec": {
   "display_name": "Python 3",
   "language": "python",
   "name": "python3"
  },
  "language_info": {
   "codemirror_mode": {
    "name": "ipython",
    "version": 3
   },
   "file_extension": ".py",
   "mimetype": "text/x-python",
   "name": "python",
   "nbconvert_exporter": "python",
   "pygments_lexer": "ipython3",
   "version": "3.7.10"
  }
 },
 "nbformat": 4,
 "nbformat_minor": 5
}
